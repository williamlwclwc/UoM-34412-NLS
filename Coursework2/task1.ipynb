{
 "cells": [
  {
   "cell_type": "markdown",
   "metadata": {},
   "source": [
    "# Task1 Named Entity Recognition"
   ]
  },
  {
   "cell_type": "code",
   "execution_count": 1,
   "metadata": {},
   "outputs": [],
   "source": [
    "# imports\n",
    "import nltk\n",
    "from nltk.corpus import PlaintextCorpusReader\n",
    "from nltk.tag import pos_tag\n",
    "from nltk import ne_chunk\n",
    "\n",
    "corpus_root = \"./corpus1/\""
   ]
  },
  {
   "cell_type": "code",
   "execution_count": 2,
   "metadata": {},
   "outputs": [],
   "source": [
    "# pos tagging all files\n",
    "newcorpus = PlaintextCorpusReader(corpus_root, \".*\", encoding='latin-1')\n",
    "# print(newcorpus.words())\n",
    "corpus1_words = newcorpus.words()\n",
    "pos_tags = pos_tag(corpus1_words)"
   ]
  },
  {
   "cell_type": "markdown",
   "metadata": {},
   "source": [
    "## NLTK NER"
   ]
  },
  {
   "cell_type": "code",
   "execution_count": 3,
   "metadata": {},
   "outputs": [],
   "source": [
    "# without category labels\n",
    "ner_without_labels = ne_chunk(pos_tags, binary=True)\n",
    "# with category labels\n",
    "ner_with_labels = ne_chunk(pos_tags)"
   ]
  },
  {
   "cell_type": "code",
   "execution_count": 5,
   "metadata": {},
   "outputs": [
    {
     "name": "stdout",
     "output_type": "stream",
     "text": [
      "NER with category labels:\n",
      "Open nltk_ner.txt to check results\n"
     ]
    }
   ],
   "source": [
    "# print results\n",
    "# print(\"NER without category labels:\")\n",
    "# print(ner_without_labels)\n",
    "print(\"NER with category labels:\")\n",
    "# print(ner_with_labels)\n",
    "print(\"Open nltk_ner.txt to check results\")\n",
    "with open('nltk_ner.txt', 'w') as f:\n",
    "    f.write(str(ner_with_labels))"
   ]
  },
  {
   "cell_type": "markdown",
   "metadata": {},
   "source": [
    "### All words/phrases that being regarded as ORGANIZATION (NLTK)"
   ]
  },
  {
   "cell_type": "code",
   "execution_count": 22,
   "metadata": {},
   "outputs": [
    {
     "name": "stdout",
     "output_type": "stream",
     "text": [
      "223\n",
      "['Bureau', 'Confederation', 'Articles', 'Association', 'OUR', 'Administrations', 'Fellow Citizens', 'Dingley Act', 'Houses', 'Fort Sumter', 'Senate', 'Negro', 'Reflecting', 'Information Age', 'Parents', 'Communist', 'Federal Establishment', 'Massachusetts Congress', 'Panama Canal', 'Army', 'Invisible Hand', 'Great Society', 'FAILURE OF', 'Santo Domingo', 'Christians', 'Democratic Party', 'Moment', 'Social', 'Lord', 'Bill of Rights', 'Administration', 'Forty', 'Cabinet', 'Almighty God', 'National Government', 'Constitutional Convention', 'Mississippi', 'Commonwealth', 'Democrats', 'Almighty Ruler', 'WORLD', 'Republican Party', 'Century', 'Parchment', 'General', 'American Dream', 'Helvetic Confederacy', 'Treasury Department', 'Beneficent Creator', 'African Americans', 'Congress', 'State', 'Helvetic', 'Board', 'Human Race', 'Divine Being', 'Executive Departments', 'National Union', 'Mediterranean', 'Federal Union', 'Golden Rule', 'Author', 'Homestead Act', 'Congressional', 'Representatives', 'New England States', 'Lord Most High', 'Treasury', 'Atlantic', 'National Constitution', 'Patron', 'Floridas', 'American', 'Author of', 'Republic', 'War Department', 'Vice', 'Liberty Bell', 'Province', 'Communists', 'States', 'Gettysburg Address', 'Parent', 'Armies', 'RELATION OF', 'International Communism', 'Divine Providence', 'American Belief', 'Revolution', 'Dakotas', 'Mormon', 'Pacific Coast', 'Legislature', 'Great Depression', 'Second', 'Democratic', 'Federal Constitution', 'Cortes', 'Partial', 'Apollo', 'Soviets', 'Cardinal Bernardin', 'Almighty', 'Nebraska', 'House', 'Roman', 'Colonel Goethals', 'Great Author', 'Central America', 'International Justice', 'Lincoln Memorial', 'NATIONAL', 'Scipios', 'National Congress', 'League', 'Scripture', 'Supreme', 'Curtii', 'All Good', 'Capital', 'Chosin Reservoir', 'Constitution', 'American Navy', 'Barbary Powers', 'United Nations', 'Parliament', 'Pacific', 'Supreme Author', 'Rio', 'General Government', 'Union', 'Hague Tribunal', 'C', 'Confederacy', 'Negroes', 'State Governments', 'Convention', 'SPECIAL', 'Navy', 'National', 'Country', 'Fountain', 'Medicare', 'United Stages', 'Savior', 'Monroe', 'Timidity', 'Communications', 'Comfort', 'Internal', 'THE', 'Executive', 'Great Lakes', 'Executive Magistrate', 'Rocky Mountains', 'Supreme Court', 'PARTY', 'Fathers', 'Concord', 'Great War', 'Interstate Commerce Commission', 'European', 'Industrial Revolution', 'America', 'Americas', 'Commerce', 'Engineers', 'Senator Mathias', 'Red', 'Justice', 'Republican', 'Commander', 'Isthmus', 'Great', 'Federal Government', 'Old World', 'Common', 'Iwo Jima', 'YOUNG Americans', 'Old', 'Permanent Court', 'BUSINESS', 'Christianity', 'American Century', 'Magistrate', 'Philippines', 'Nation', 'Philippine Islands', 'Department', 'American Revolution', 'Farewell', 'Fourth', 'New', 'God', 'EIGHTEENTH', 'Pacific Ocean', 'Yorktown', 'Territory', 'Federal', 'Almighty Providence', 'Greatness', 'Civil Rights', 'Senators', 'New World', 'Britannic Majesty', 'Moon', 'Fifty', 'Unpleasant', 'PUBLIC', 'Potomac River', 'Muslim', 'Rocky', 'Western', 'Universe', 'Orient', 'Bible', 'Missouri', 'Republics', 'Ohio', 'CONGRESS Action', 'Commons', 'Divine Author', 'District']\n"
     ]
    }
   ],
   "source": [
    "# print ORGANIZATION (duplicates removed)\n",
    "nltk_org = []\n",
    "for elem in ner_with_labels.subtrees():\n",
    "    phrase = []\n",
    "    if elem.label() == 'ORGANIZATION':\n",
    "        for item in elem.leaves():\n",
    "            phrase.append(item[0])\n",
    "        phrase = ' '.join(phrase)\n",
    "        nltk_org.append(phrase)\n",
    "    \n",
    "nltk_org = list(set(nltk_org))\n",
    "print(len(nltk_org))\n",
    "print(nltk_org)"
   ]
  },
  {
   "cell_type": "code",
   "execution_count": 57,
   "metadata": {},
   "outputs": [
    {
     "name": "stdout",
     "output_type": "stream",
     "text": [
      "895\n",
      "[('Senate', 5, 5), ('House', 9, 9), ('Great Author', 472, 473), ('Invisible Hand', 517, 518), ('Constitution', 1104, 1104), ('House', 1272, 1272), ('Representatives', 1274, 1274), ('Parent', 1454, 1454), ('Human Race', 1457, 1458), ('Constitution', 1614, 1614), ('Helvetic', 1916, 1916), ('Congress', 1989, 1989), ('Executive', 2398, 2398), ('Senate', 2400, 2400), ('Congress', 2448, 2448), ('Congress', 2668, 2668), ('Legislature', 2689, 2689), ('Houses', 3310, 3310), ('Congress', 3312, 3312), ('State', 3457, 3457), ('Union', 3482, 3482), ('Houses', 3762, 3762), ('Congress', 3764, 3764), ('States', 3772, 3772), ('Congress', 3785, 3785), ('Legislature', 3915, 3915), ('Christianity', 4095, 4095), ('Patron', 4223, 4223), ('Fountain', 4228, 4228), ('Justice', 4230, 4230), ('Fellow Citizens', 4272, 4273), ('Republican', 5154, 5154), ('State', 5526, 5526), ('General', 5554, 5554), ('Constitution', 6215, 6215), ('State', 6562, 6562), ('States', 6723, 6723), ('Mississippi', 6984, 6984), ('General Government', 7038, 7039), ('Constitution', 7064, 7064), ('Constitution', 7892, 7892), ('States', 7946, 7946), ('Union', 9342, 9342), ('States', 9363, 9363), ('Republic', 9824, 9824), ('Administration', 10281, 10281), ('Republic', 10681, 10681), ('States', 11602, 11602), ('National', 11608, 11608), ('Divine Author', 11722, 11723), ('Army', 11956, 11956), ('Navy', 11959, 11959), ('Constitution', 12019, 12019), ('Union', 12081, 12081), ('Atlantic', 12134, 12134), ('Great Lakes', 12161, 12162), ('Revolution', 12444, 12444), ('National', 12462, 12462), ('States', 12477, 12477), ('Army', 12936, 12936), ('Union', 13577, 13577), ('Treasury', 13883, 13883), ('Executive', 14013, 14013), ('Legislature', 14049, 14049), ('Administration', 14163, 14163), ('Administration', 14190, 14190), ('Legislature', 14198, 14198), ('Administrations', 14667, 14667), ('Supreme Author', 15131, 15132), ('All Good', 15134, 15135), ('Administration', 15185, 15185), ('Administration', 15251, 15251), ('Atlantic', 15387, 15387), ('Board', 15622, 15622), ('Engineers', 15624, 15624), ('Congress', 15631, 15631), ('Congress', 16398, 16398), ('Cortes', 16633, 16633), ('Union', 17159, 17159), ('Province', 17178, 17178), ('Mississippi', 17235, 17235), ('Britannic Majesty', 17375, 17376), ('Barbary Powers', 17529, 17530), ('Mediterranean', 17566, 17566), ('Pacific', 17603, 17603), ('Congress', 17914, 17914), ('Treasury', 17989, 17989), ('Congress', 18080, 18080), ('Congress', 18612, 18612), ('National', 19308, 19308), ('State Governments', 19310, 19311), ('Red', 19504, 19504), ('Floridas', 19523, 19523), ('Old World', 19634, 19635), ('Almighty God', 19740, 19741), ('Federal Constitution', 19771, 19772), ('Executive Magistrate', 19894, 19895), ('Union', 20210, 20210), ('Constitution', 20225, 20225), ('Union', 20263, 20263), ('Mississippi', 20306, 20306), ('Union', 20322, 20322), ('Union', 20611, 20611), ('Union', 20949, 20949), ('Union', 20975, 20975), ('General', 21157, 21157), ('Union', 21161, 21161), ('Union', 21344, 21344), ('Union', 21597, 21597), ('Union', 21612, 21612), ('State', 21625, 21625), ('State', 21678, 21678), ('Union', 21748, 21748), ('Union', 21805, 21805), ('Federal Constitution', 21858, 21859), ('Administration', 21885, 21885), ('Legislature', 21944, 21944), ('Army', 22017, 22017), ('Union', 22070, 22070), ('Revolution', 22138, 22138), ('Floridas', 22169, 22169), ('Pacific Ocean', 22183, 22184), ('Navy', 22229, 22229), ('Union', 22268, 22268), ('Congress', 22487, 22487), ('General', 22627, 22627), ('Lord', 22870, 22870), ('Federal', 23012, 23012), ('Legislature', 23057, 23057), ('Congress', 23100, 23100), ('Confederacy', 23239, 23239), ('Congress', 23388, 23388), ('Constitution', 23438, 23438), ('Internal', 23490, 23490), ('Federal Government', 23511, 23512), ('Partial', 23735, 23735), ('Federal Government', 23892, 23893), ('General', 24274, 24274), ('Union', 24450, 24450), ('General', 24603, 24603), ('States', 24611, 24611), ('States', 24668, 24668), ('General Government', 24678, 24679), ('General', 24716, 24716), ('Union', 24741, 24741), ('Union', 24945, 24945), ('Republic', 24987, 24987), ('Constitution', 25119, 25119), ('Federal Union', 25130, 25131), ('General', 25155, 25155), ('Union', 25215, 25215), ('Republic', 25485, 25485), ('Revolution', 26808, 26808), ('Republic', 27609, 27609), ('Federal', 27716, 27716), ('Federal', 27819, 27819), ('Congress', 28215, 28215), ('District', 28221, 28221), ('States', 28248, 28248), ('Republic', 28352, 28352), ('Federal Government', 28912, 28913), ('Divine Being', 29499, 29500), ('Republic', 29677, 29677), ('Beneficent Creator', 30239, 30240), ('United Stages', 30680, 30681), ('Constitution', 30764, 30764), ('Convention', 31082, 31082), ('Federal Government', 31109, 31110), ('Constitution', 31344, 31344), ('Congress', 31951, 31951), ('Constitution', 31987, 31987), ('Legislature', 32033, 32033), ('Legislature', 32061, 32061), ('Executive', 32110, 32110), ('Houses', 32126, 32126), ('Congress', 32128, 32128), ('Union', 32213, 32213), ('State', 32236, 32236), ('State', 32335, 32335), ('Congress', 32471, 32471), ('Convention', 32527, 32527), ('Congress', 32561, 32561), ('Convention', 32640, 32640), ('Legislature', 32661, 32661), ('Union', 32667, 32667), ('Congress', 32801, 32801), ('Union', 32906, 32906), ('Congress', 33059, 33059), ('States', 33213, 33213), ('States', 33284, 33284), ('Federal Government', 33292, 33293), ('General Government', 33369, 33370), ('States', 33381, 33381), ('State', 33394, 33394), ('State', 33483, 33483), ('General Government', 33499, 33500), ('Constitution', 33534, 33534), ('State', 33594, 33594), ('Administration', 33612, 33612), ('Executive', 33681, 33681), ('Constitution', 33750, 33750), ('Commander', 33774, 33774), ('Armies', 33779, 33779), ('Navy', 33781, 33781), ('Magistrate', 33827, 33827), ('Treasury', 34029, 34029), ('Treasury', 34050, 34050), ('Federal', 34085, 34085), ('Treasury Department', 34124, 34125), ('Legislature', 34149, 34149), ('Treasury', 34161, 34161), ('Houses', 34172, 34172), ('Congress', 34174, 34174), ('Congress', 34454, 34454), ('Parliament', 34612, 34612), ('Parliament', 34660, 34660), ('Senate', 34730, 34730), ('House', 34760, 34760), ('Representatives', 34762, 34762), ('Constitution', 34807, 34807), ('District', 35291, 35291), ('District', 35311, 35311), ('States', 35323, 35323), ('Constitution', 35337, 35337), ('Congress', 35442, 35442), ('District', 35448, 35448), ('Congress', 35475, 35475), ('General', 35493, 35493), ('Congress', 35506, 35506), ('Confederacy', 36067, 36067), ('Helvetic Confederacy', 36094, 36095), ('Constitution', 36246, 36246), ('Union', 36406, 36406), ('General Government', 36414, 36415), ('States', 36510, 36510), ('States', 36551, 36551), ('Unpleasant', 36679, 36679), ('Roman', 37066, 37066), ('Savior', 37213, 37213), ('Magistrate', 37701, 37701), ('Commonwealth', 38029, 38029), ('Commonwealth', 38053, 38053), ('Curtii', 38066, 38066), ('Scipios', 38088, 38088), ('Republic', 38829, 38829), ('Universe', 38958, 38958), ('Federal', 39239, 39239), ('States', 39267, 39267), ('States', 39297, 39297), ('Union', 39317, 39317), ('General', 39336, 39336), ('State', 39393, 39393), ('General', 39424, 39424), ('States', 39480, 39480), ('States', 39587, 39587), ('Federal', 39660, 39660), ('States', 39671, 39671), ('Federal', 39775, 39775), ('Constitution', 39812, 39812), ('Constitution', 39824, 39824), ('Executive', 39874, 39874), ('Legislature', 39888, 39888), ('Federal Union', 39977, 39978), ('Union', 40021, 40021), ('States', 40028, 40028), ('Confederacy', 40049, 40049), ('Old', 40080, 40080), ('Federal Union', 40271, 40272), ('Federal Union', 40531, 40532), ('Constitution', 40659, 40659), ('Union', 40689, 40689), ('Union', 40739, 40739), ('Constitution', 40773, 40773), ('Union', 40817, 40817), ('Union', 40907, 40907), ('Union', 40928, 40928), ('Congress', 41041, 41041), ('Executive', 41048, 41048), ('General', 41231, 41231), ('Union', 41235, 41235), ('States', 41242, 41242), ('Union', 41272, 41272), ('States', 41288, 41288), ('Federal', 41538, 41538), ('Federal Government', 41747, 41748), ('Union', 42204, 42204), ('Republic', 42250, 42250), ('Congress', 42349, 42349), ('Union', 42445, 42445), ('Congress', 42504, 42504), ('Union', 42796, 42796), ('Union', 43036, 43036), ('Rocky Mountains', 43254, 43255), ('Missouri', 43346, 43346), ('Pacific', 43372, 43372), ('States', 43442, 43442), ('Executive', 44110, 44110), ('Country', 44277, 44277), ('Army', 44282, 44282), ('Navy', 44284, 44284), ('Senate', 44297, 44297), ('Congress', 44313, 44313), ('Union', 44320, 44320), ('Administration', 44391, 44391), ('Army', 44473, 44473), ('Congress', 44516, 44516), ('Congress', 44812, 44812), ('Congress', 44884, 44884), ('Republic', 45097, 45097), ('Republic', 45159, 45159), ('Republic', 45328, 45328), ('Country', 45370, 45370), ('Confederation', 45433, 45433), ('Revolution', 45543, 45543), ('States', 46106, 46106), ('Federal', 46108, 46108), ('Administration', 46142, 46142), ('Administration', 46307, 46307), ('Administration', 46364, 46364), ('Army', 47057, 47057), ('Army', 47095, 47095), ('Navy', 47149, 47149), ('Administration', 47424, 47424), ('State', 47715, 47715), ('Federal', 47717, 47717), ('States', 47746, 47746), ('General', 47755, 47755), ('Federal', 47792, 47792), ('States', 47824, 47824), ('Union', 47981, 47981), ('Union', 48113, 48113), ('Republic', 48200, 48200), ('Union', 48256, 48256), ('States', 48340, 48340), ('Union', 48633, 48633), ('Constitution', 48871, 48871), ('Union', 48874, 48874), ('Congress', 49062, 49062), ('Congress', 49091, 49091), ('Congress', 49144, 49144), ('Territory', 49151, 49151), ('Union', 49167, 49167), ('Supreme Court', 49237, 49238), ('Nebraska', 49296, 49296), ('Territory', 49313, 49313), ('Union', 49332, 49332), ('States', 49471, 49471), ('Country', 49530, 49530), ('Union', 49645, 49645), ('Union', 49784, 49784), ('Congress', 49806, 49806), ('Union', 49833, 49833), ('Confederacy', 50038, 50038), ('Constitution', 50135, 50135), ('Union', 50138, 50138), ('Treasury', 50319, 50319), ('Navy', 50353, 50353), ('Constitution', 50749, 50749), ('Federal Constitution', 50778, 50779), ('Congress', 50787, 50787), ('Congress', 50878, 50878), ('Congress', 50976, 50976), ('Union', 51002, 51002), ('Constitution', 51009, 51009), ('Congress', 51010, 51010), ('States', 51076, 51076), ('Pacific Coast', 51160, 51161), ('Central America', 51176, 51177), ('Constitution', 51187, 51187), ('Congress', 51191, 51191), ('Union', 51256, 51256), ('Pacific', 51266, 51266), ('States', 51298, 51298), ('Rocky', 51304, 51304), ('Republican', 51958, 51958), ('States', 52053, 52053), ('States', 52149, 52149), ('Administration', 52271, 52271), ('Constitution', 52287, 52287), ('Congress', 52448, 52448), ('State', 52546, 52546), ('Congress', 52740, 52740), ('National Constitution', 52811, 52812), ('Federal Union', 52882, 52883), ('Union', 52907, 52907), ('National Constitution', 52962, 52963), ('Union', 52967, 52967), ('Union', 53076, 53076), ('Union', 53089, 53089), ('Articles', 53106, 53106), ('Association', 53108, 53108), ('Articles', 53151, 53151), ('Constitution', 53173, 53173), ('Union', 53188, 53188), ('States', 53198, 53198), ('Union', 53204, 53204), ('Constitution', 53287, 53287), ('Union', 53292, 53292), ('Union', 53323, 53323), ('States', 53330, 53330), ('Union', 53397, 53397), ('Federal', 53516, 53516), ('Union', 53599, 53599), ('Union', 53703, 53703), ('Union', 53746, 53746), ('Union', 53857, 53857), ('Constitution', 53879, 53879), ('Constitution', 53926, 53926), ('State', 54065, 54065), ('Constitution', 54069, 54069), ('Congress', 54076, 54076), ('Constitution', 54084, 54084), ('Constitution', 54099, 54099), ('Supreme Court', 54401, 54402), ('Supreme Court', 54548, 54549), ('Constitution', 54685, 54685), ('National Constitution', 55053, 55054), ('Congress', 55202, 55202), ('Federal', 55209, 55209), ('States', 55220, 55220), ('Magistrate', 55282, 55282), ('States', 55306, 55306), ('Almighty Ruler', 55401, 55402), ('Administration', 55625, 55625), ('Union', 55839, 55839), ('Union', 56054, 56054), ('Union', 56075, 56075), ('Union', 56134, 56134), ('Union', 56186, 56186), ('Almighty', 56343, 56343), ('God', 56577, 56577), ('Congress', 56780, 56780), ('Union', 57014, 57014), ('Treasury', 57161, 57161), ('General', 57334, 57334), ('Union', 58003, 58003), ('Republic', 58101, 58101), ('Executive', 58298, 58298), ('States', 58377, 58377), ('General', 58383, 58383), ('Santo Domingo', 58430, 58431), ('Union', 58437, 58437), ('Santo Domingo', 58456, 58457), ('Santo Domingo', 58488, 58489), ('Commerce', 58591, 58591), ('Congress', 59004, 59004), ('Fort Sumter', 59198, 59199), ('Constitution', 59660, 59660), ('Constitution', 59950, 59950), ('Union', 60065, 60065), ('Democrats', 60131, 60131), ('General Government', 60226, 60227), ('National', 60271, 60271), ('Administration', 60368, 60368), ('National', 60512, 60512), ('Constitution', 60521, 60521), ('State', 60588, 60588), ('Congress', 60869, 60869), ('Congressional', 61282, 61282), ('Administration', 61466, 61466), ('Senators', 61982, 61982), ('Representatives', 61984, 61984), ('Articles', 62181, 62181), ('Confederation', 62183, 62183), ('Republic', 62190, 62190), ('Yorktown', 62230, 62230), ('National Union', 62359, 62360), ('Union', 62481, 62481), ('Constitution', 62542, 62542), ('Union', 62560, 62560), ('Constitution', 62652, 62652), ('Union', 62776, 62776), ('Constitution', 62800, 62800), ('States', 62825, 62825), ('Union', 62865, 62865), ('Union', 63187, 63187), ('Constitution', 63276, 63276), ('States', 63513, 63513), ('Union', 63632, 63632), ('Republic', 63694, 63694), ('States', 63810, 63810), ('Republic', 63916, 63916), ('Union', 63966, 63966), ('Administration', 64128, 64128), ('Congress', 64213, 64213), ('National', 64279, 64279), ('Congress', 64304, 64304), ('Congress', 64448, 64448), ('Congress', 64804, 64804), ('Congress', 64837, 64837), ('General Government', 64842, 64843), ('Congress', 64886, 64886), ('Mormon', 64893, 64893), ('Congress', 64927, 64927), ('National Government', 64987, 64988), ('Congress', 65065, 65065), ('Executive Departments', 65077, 65078), ('States', 65118, 65118), ('Union', 65158, 65158), ('Congress', 65278, 65278), ('Almighty God', 65321, 65322), ('Republic', 65744, 65744), ('Constitution', 65919, 65919), ('Federal Government', 65995, 65996), ('States', 66002, 66002), ('Constitution', 66019, 66019), ('Republic', 66253, 66253), ('Republic', 66463, 66463), ('Treasury', 66644, 66644), ('Constitution', 66942, 66942), ('Almighty God', 67114, 67115), ('Constitution', 67379, 67379), ('Union', 67382, 67382), ('States', 67385, 67385), ('Almighty', 67429, 67429), ('Congress', 67499, 67499), ('Congress', 67525, 67525), ('Supreme Court', 67599, 67600), ('Constitution', 67657, 67657), ('Atlantic', 67759, 67759), ('General Government', 68064, 68065), ('States', 68184, 68184), ('Congress', 68224, 68224), ('Republic', 68268, 68268), ('States', 68309, 68309), ('States', 68412, 68412), ('New England States', 68436, 68438), ('Congress', 68973, 68973), ('Senate', 70120, 70120), ('Congress', 70141, 70141), ('Treasury', 70536, 70536), ('Treasury', 70563, 70563), ('Congress', 70648, 70648), ('Union', 70926, 70926), ('Union', 70971, 70971), ('Dakotas', 70974, 70974), ('National Congress', 71151, 71152), ('Constitution', 71167, 71167), ('Congress', 71266, 71266), ('Congressional', 71287, 71287), ('States', 71822, 71822), ('Federal', 73159, 73159), ('General', 73162, 73162), ('States', 73884, 73884), ('Supreme', 74015, 74015), ('Almighty God', 74108, 74109), ('Treasury', 74295, 74295), ('Congress', 74457, 74457), ('Treasury', 75086, 75086), ('Administrations', 75287, 75287), ('Congress', 75452, 75452), ('Congress', 75541, 75541), ('Treasury', 75562, 75562), ('Congress', 75982, 75982), ('Congress', 76040, 76040), ('Republic', 76210, 76210), ('Constitution', 76447, 76447), ('Republic', 76628, 76628), ('Congress', 76782, 76782), ('Congress', 76888, 76888), ('American Navy', 77023, 77024), ('Forty', 77292, 77292), ('Congress', 77295, 77295), ('Senate', 77315, 77315), ('House', 77317, 77317), ('Fifty', 77320, 77320), ('Congress', 77323, 77323), ('House', 77342, 77342), ('Commons', 77344, 77344), ('Senate', 77371, 77371), ('Senate', 77472, 77472), ('Congress', 77574, 77574), ('Congress', 77613, 77613), ('Treasury', 77641, 77641), ('Congress', 77653, 77653), ('Congress', 77697, 77697), ('Congress', 77806, 77806), ('Congress', 77818, 77818), ('Congress', 77896, 77896), ('Congress', 78012, 78012), ('Congress', 78067, 78067), ('Lord Most High', 78387, 78389), ('Treasury', 78461, 78461), ('Congress', 78500, 78500), ('Congress', 78525, 78525), ('Executive', 78674, 78674), ('Congress', 78677, 78677), ('Congress', 78728, 78728), ('Congress', 78847, 78847), ('Almighty God', 79010, 79011), ('Republic', 79077, 79077), ('Republic', 79346, 79346), ('Republic', 79646, 79646), ('Republic', 79659, 79659), ('Congress', 80070, 80070), ('Congress', 80307, 80307), ('Philippine Islands', 80316, 80317), ('Congress', 80469, 80469), ('Congress', 80496, 80496), ('Philippines', 80530, 80530), ('Philippine Islands', 80716, 80717), ('Democratic', 81546, 81546), ('Department', 82321, 82321), ('Justice', 82323, 82323), ('Bureau', 82327, 82327), ('Department', 82332, 82332), ('Commerce', 82334, 82334), ('Interstate Commerce Commission', 82341, 82343), ('Congress', 82388, 82388), ('Congress', 82620, 82620), ('Dingley Act', 82647, 82648), ('Dingley Act', 82758, 82759), ('Congress', 82979, 82979), ('Department', 83313, 83313), ('Federal Government', 83405, 83406), ('Panama Canal', 83480, 83481), ('Congress', 83533, 83533), ('Ohio', 83552, 83552), ('Hague Tribunal', 84114, 84115), ('Republic', 84361, 84361), ('Federal Government', 84652, 84653), ('Federal', 84682, 84682), ('Federal Government', 84699, 84700), ('Congress', 84805, 84805), ('National Government', 84821, 84822), ('Congress', 85058, 85058), ('Republican', 85066, 85066), ('Congress', 85167, 85167), ('Orient', 85201, 85201), ('Philippines', 85205, 85205), ('Philippines', 85233, 85233), ('Congress', 85272, 85272), ('Congress', 85296, 85296), ('Commerce', 85331, 85331), ('Panama Canal', 85388, 85389), ('Congress', 85515, 85515), ('War Department', 85540, 85541), ('Isthmus', 85557, 85557), ('Isthmus', 85590, 85590), ('Colonel Goethals', 85654, 85655), ('Isthmus', 85736, 85736), ('Philippines', 85821, 85821), ('Philippines', 85844, 85844), ('Philippines', 85905, 85905), ('Constitution', 86434, 86434), ('States', 86524, 86524), ('Constitution', 86539, 86539), ('Federal', 86558, 86558), ('Negro', 86603, 86603), ('Negroes', 87035, 87035), ('Congress', 87181, 87181), ('District', 87275, 87275), ('Congress', 87326, 87326), ('Congress', 87413, 87413), ('Congress', 87777, 87777), ('Almighty God', 87803, 87804), ('House', 87829, 87829), ('Representatives', 87831, 87831), ('Democratic', 87833, 87833), ('Senate', 87846, 87846), ('Democratic', 87853, 87853), ('Vice', 87860, 87860), ('Democrats', 87870, 87870), ('Nation', 87936, 87936), ('Democratic Party', 87963, 87964), ('Nation', 89065, 89065), ('Nation', 89460, 89460), ('God', 89517, 89517), ('Republic', 91441, 91441), ('Nation', 91589, 91589), ('Old', 91634, 91634), ('Republic', 91699, 91699), ('Old World', 91750, 91751), ('America', 91851, 91851), ('Republic', 92155, 92155), ('Republic', 92459, 92459), ('Republics', 92603, 92603), ('Republic', 92646, 92646), ('Republic', 92864, 92864), ('Nation', 93151, 93151), ('Congress', 93828, 93828), ('Administration', 93831, 93831), ('Common', 94599, 94599), ('Golden Rule', 94885, 94886), ('God', 94970, 94970), ('Republic', 94976, 94976), ('America', 94993, 94993), ('Republic', 95024, 95024), ('Lord', 95100, 95100), ('Nation', 95282, 95282), ('European', 95317, 95317), ('Monroe', 95623, 95623), ('Atlantic', 95633, 95633), ('Pacific', 95656, 95656), ('Great War', 95710, 95711), ('Old World', 95956, 95957), ('Permanent Court', 96525, 96526), ('International Justice', 96528, 96529), ('Old World', 96763, 96764), ('Old World', 96823, 96824), ('Parchment', 97201, 97201), ('Congress', 97709, 97709), ('Administration', 97734, 97734), ('Nation', 98863, 98863), ('Constitution', 98969, 98969), ('Constitution', 98982, 98982), ('Congress', 99075, 99075), ('States', 99081, 99081), ('Almighty God', 99569, 99570), ('Almighty Providence', 99629, 99630), ('Great War', 99708, 99709), ('Nation', 99893, 99893), ('FAILURE OF', 99938, 99939), ('OUR', 99940, 99940), ('Federal', 100006, 100006), ('Federal', 100135, 100135), ('Federal', 100159, 100159), ('THE', 100402, 100402), ('EIGHTEENTH', 100403, 100403), ('NATIONAL', 100840, 100840), ('Federal', 100896, 100896), ('Treasury Department', 100925, 100926), ('Department', 100929, 100929), ('Justice', 100931, 100931), ('RELATION OF', 100941, 100942), ('BUSINESS', 100945, 100945), ('Federal Government', 101123, 101124), ('States', 101185, 101185), ('Nation', 101237, 101237), ('Nation', 101251, 101251), ('PUBLIC', 101397, 101397), ('WORLD', 101483, 101483), ('Permanent Court', 101986, 101987), ('International Justice', 101989, 101990), ('League', 102118, 102118), ('New World', 102288, 102289), ('Old World', 102305, 102306), ('PARTY', 102554, 102554), ('SPECIAL', 102700, 102700), ('THE', 102703, 102703), ('CONGRESS Action', 102704, 102705), ('Republican Party', 102714, 102715), ('Congress', 102756, 102756), ('Congress', 102777, 102777), ('THE', 102782, 102782), ('Constitution', 102806, 102806), ('Federal', 102876, 102876), ('Almighty God', 103447, 103448), ('Federal', 104440, 104440), ('Congress', 104617, 104617), ('Congress', 105221, 105221), ('Congress', 105252, 105252), ('Congress', 105294, 105294), ('Republic', 105537, 105537), ('Republic', 105586, 105586), ('Republic', 105748, 105748), ('Constitutional Convention', 105870, 105871), ('Federal', 105929, 105929), ('Comfort', 106592, 106592), ('Nation', 107052, 107052), ('Comfort', 107155, 107155), ('Timidity', 107160, 107160), ('Republic', 107172, 107172), ('Republic', 107828, 107828), ('Bill of Rights', 107990, 107992), ('Americas', 108437, 108437), ('New World', 108448, 108449), ('Gettysburg Address', 108522, 108523), ('Republic', 108579, 108579), ('Nation', 108697, 108697), ('Nation', 108714, 108714), ('Capital', 108769, 108769), ('Nation', 108772, 108772), ('Nation', 108984, 108984), ('Almighty God', 109620, 109621), ('Communist', 110552, 110552), ('United Nations', 110639, 110640), ('United Nations', 110951, 110952), ('United Nations', 110978, 110979), ('United Nations', 111157, 111158), ('Rio', 111177, 111177), ('Senate', 111264, 111264), ('United Nations', 111579, 111580), ('Almighty', 112187, 112187), ('Great', 112582, 112582), ('New', 112602, 112602), ('Iwo Jima', 112676, 112677), ('Divine Providence', 113314, 113315), ('United Nations', 114353, 114354), ('Western', 114419, 114419), ('United Nations', 114518, 114519), ('Almighty God', 115137, 115138), ('Commerce', 115276, 115276), ('International Communism', 115581, 115582), ('International Communism', 115668, 115669), ('United Nations', 116210, 116211), ('Pacific', 116282, 116282), ('Communists', 117446, 117446), ('Americas', 117565, 117565), ('United Nations', 117595, 117596), ('American', 118694, 118694), ('Nation', 119422, 119422), ('American Belief', 119652, 119653), ('Great Society', 119725, 119726), ('Farewell', 120035, 120035), ('Nation', 120796, 120796), ('Greatness', 120952, 120952), ('God', 122311, 122311), ('Apollo', 122327, 122327), ('God', 123461, 123461), ('National Government', 123913, 123914), ('Bible', 124727, 124727), ('Lord', 124789, 124789), ('Nation', 125273, 125273), ('Republic', 126242, 126242), ('Federal Government', 127020, 127021), ('States', 127027, 127027), ('Federal', 127042, 127042), ('States', 127051, 127051), ('Federal Government', 127054, 127055), ('Fathers', 127834, 127834), ('Massachusetts Congress', 127844, 127845), ('Reflecting', 128445, 128445), ('Lincoln Memorial', 128452, 128453), ('Potomac River', 128482, 128483), ('Chosin Reservoir', 128581, 128582), ('Moment', 128937, 128937), ('Senator Mathias', 128980, 128981), ('Bible', 129011, 129011), ('Moon', 129086, 129086), ('National', 129282, 129282), ('Republic', 129476, 129476), ('American Revolution', 129643, 129644), ('Democrats', 129690, 129690), ('Fathers', 129707, 129707), ('Fourth', 129840, 129840), ('Federal Establishment', 130007, 130008), ('Cabinet', 130371, 130371), ('Congress', 130440, 130440), ('Federal', 130509, 130509), ('Federal Government', 130516, 130517), ('Federal', 130549, 130549), ('Federal', 130638, 130638), ('National Government', 130835, 130836), ('National', 130851, 130851), ('Soviets', 131215, 131215), ('Author of', 131701, 131702), ('Bible', 131873, 131873), ('Bible', 131882, 131882), ('Great', 132303, 132303), ('Nation', 132861, 132861), ('Second', 133187, 133187), ('Nation', 133217, 133217), ('Cabinet', 133252, 133252), ('Executive', 133331, 133331), ('Congress', 133334, 133334), ('House', 133346, 133346), ('Senate', 133349, 133349), ('Congress', 133414, 133414), ('Congress', 133688, 133688), ('Great', 133865, 133865), ('Almighty', 134573, 134573), ('Communications', 134807, 134807), ('Great Depression', 135071, 135072), ('Civil Rights', 135076, 135077), ('YOUNG Americans', 136029, 136030), ('Century', 136232, 136232), ('Scripture', 136260, 136260), ('American Century', 136535, 136536), ('African Americans', 136652, 136653), ('Industrial Revolution', 136721, 136722), ('Information Age', 136762, 136763), ('Information Age', 137843, 137844), ('Parents', 137866, 137866), ('American Dream', 138362, 138363), ('Congress', 138430, 138430), ('Congress', 138451, 138451), ('Cardinal Bernardin', 138525, 138526), ('American Dream', 138733, 138734), ('Social', 139688, 139688), ('Medicare', 139691, 139691), ('Congress', 140656, 140656), ('America', 141274, 141274), ('America', 141318, 141318), ('Democratic', 141626, 141626), ('Homestead Act', 142186, 142187), ('Social', 142190, 142190), ('Author', 142904, 142904), ('Liberty Bell', 142920, 142921), ('God', 143488, 143488), ('Concord', 143681, 143681), ('Fathers', 144340, 144340), ('Christians', 144704, 144704), ('Muslim', 144813, 144813), ('C', 145759, 145759)]\n"
     ]
    }
   ],
   "source": [
    "# print ORGANIZATION (with indexes)\n",
    "from nltk import tree2conlltags\n",
    "nltk_org_index = []\n",
    "index = 0\n",
    "nltk_ner_list = tree2conlltags(ner_with_labels)\n",
    "while index < len(nltk_ner_list):\n",
    "    phrase = []\n",
    "    if nltk_ner_list[index][2] == 'B-ORGANIZATION':\n",
    "        start = index\n",
    "        phrase.append(nltk_ner_list[index][0])\n",
    "        index += 1\n",
    "        while nltk_ner_list[index][2] == 'I-ORGANIZATION':\n",
    "            phrase.append(nltk_ner_list[index][0])\n",
    "            index += 1\n",
    "        end = index-1\n",
    "        phrase = ' '.join(phrase)\n",
    "        nltk_org_index.append((phrase, start, end))\n",
    "    else:\n",
    "        index += 1\n",
    "    \n",
    "print(len(nltk_org_index))\n",
    "print(nltk_org_index)"
   ]
  },
  {
   "cell_type": "markdown",
   "metadata": {},
   "source": [
    "## Stanford NER"
   ]
  },
  {
   "cell_type": "code",
   "execution_count": 60,
   "metadata": {},
   "outputs": [
    {
     "name": "stdout",
     "output_type": "stream",
     "text": [
      "Open stanford_ner.txt to check results\n"
     ]
    }
   ],
   "source": [
    "from nltk.tag import StanfordNERTagger\n",
    "st = StanfordNERTagger('english.all.3class.distsim.crf.ser.gz', 'stanford-ner.jar')\n",
    "stanford_ner = st.tag(corpus1_words)\n",
    "print(\"Open stanford_ner.txt to check results\")\n",
    "with open('stanford_ner.txt', 'w') as f:\n",
    "    f.write(str(stanford_ner))"
   ]
  },
  {
   "cell_type": "code",
   "execution_count": 75,
   "metadata": {},
   "outputs": [],
   "source": [
    "stanford_org = []\n",
    "index = 0\n",
    "for elem in stanford_ner:\n",
    "    if elem[1] == 'ORGANIZATION':\n",
    "        stanford_org.append((elem[0], index))\n",
    "    index += 1\n",
    "    \n",
    "        \n",
    "stanford_org_phrases = []\n",
    "stanford_org_index = []\n",
    "i = 0\n",
    "while i < len(stanford_org):\n",
    "    phrase = []\n",
    "    phrase.append(stanford_org[i][0])\n",
    "    start = stanford_org[i][1]\n",
    "    i += 1  \n",
    "    while i < len(stanford_org) and stanford_org[i][1] == stanford_org[i-1][1]+1:\n",
    "        phrase.append(stanford_org[i][0])\n",
    "        i += 1\n",
    "    phrase = ' '.join(phrase)\n",
    "    end = stanford_org[i-1][1]\n",
    "    stanford_org_index.append((phrase, start, end))\n",
    "    stanford_org_phrases.append(phrase)"
   ]
  },
  {
   "cell_type": "markdown",
   "metadata": {},
   "source": [
    "### All words/phrases that being regarded as ORGANIZATION (Stanford)"
   ]
  },
  {
   "cell_type": "code",
   "execution_count": 76,
   "metadata": {},
   "outputs": [
    {
     "name": "stdout",
     "output_type": "stream",
     "text": [
      "72\n",
      "['State', 'National Congress', 'Federal Government', 'Commerce and Labor', 'National Union', 'Permanent Court of International Justice', 'Federal Union', 'Board of Engineers and Naval Commissioners', 'Pork Chop Hill', 'Chamber of Congress', 'Forty - ninth Congress', 'Nebraska - Kansas', 'Republican Administration', 'Barbary Powers', 'Christianity', 'Congressional', 'United Nations', 'Parliament', 'Democratic republic', 'Senate', 'Treasury', 'General Government', 'Union', 'Change Liberty', 'Massachusetts Congress', 'Army', 'Bureau of Corporations', 'League of Nations', 'Liberty Bell', 'Fountain of Justice', 'Peabody', 'Santo Domingo', 'Navy', 'Tribunal', 'Department of Commerce and Labor', 'Democratic Party', 'St', 'Government', 'interior administration', 'Department of Justice', 'United Stages', 'Articles of Association', 'Medicare', 'General Government of the Union', 'Social Security', 'Administration', 'Department of Agriculture', 'Executive Magistrate', 'Executive', 'Mormon Church', 'Cabinet', 'Supreme Court', 'Perpetual Union', 'National Government', 'Legislature', 'British House of Commons', 'supreme judiciary', 'Interstate Commerce Commission', 'House of Representatives', 'Commonwealth', 'Argonne', 'United', 'Porto Rico', 'Commerce', 'House', 'Republican Party', 'Justice', 'Helvetic Confederacy', 'Treasury Department', 'Independence Hall', 'Lincoln Memorial', 'Congress']\n"
     ]
    }
   ],
   "source": [
    "# print ORGANIZATION (duplicates removed)\n",
    "stanford_org_phrases = list(set(stanford_org_phrases))\n",
    "print(len(stanford_org_phrases))\n",
    "print(stanford_org_phrases)"
   ]
  },
  {
   "cell_type": "code",
   "execution_count": 77,
   "metadata": {},
   "outputs": [
    {
     "name": "stdout",
     "output_type": "stream",
     "text": [
      "302\n",
      "[('Senate', 5, 5), ('House of Representatives', 1272, 1274), ('Congress', 1989, 1989), ('Senate', 2400, 2400), ('Congress', 2448, 2448), ('Chamber of Congress', 2666, 2668), ('Legislature', 2689, 2689), ('Congress', 3312, 3312), ('interior administration', 3659, 3660), ('Congress', 3764, 3764), ('Congress', 3785, 3785), ('Legislature', 3915, 3915), ('Fountain of Justice', 4228, 4230), ('State', 5526, 5526), ('General Government', 5554, 5555), ('National Government', 11608, 11609), ('Army', 11956, 11956), ('Navy', 11959, 11959), ('Government', 11997, 11997), ('Army', 12936, 12936), ('Navy', 12938, 12938), ('Treasury', 13883, 13883), ('Legislature', 14049, 14049), ('Legislature', 14198, 14198), ('Board of Engineers and Naval Commissioners', 15622, 15627), ('Congress', 15631, 15631), ('Navy', 15880, 15880), ('St', 15900, 15900), ('Congress', 16398, 16398), ('Barbary Powers', 17529, 17530), ('Congress', 17914, 17914), ('Treasury', 17989, 17989), ('Congress', 18080, 18080), ('Congress', 18612, 18612), ('Executive Magistrate', 19894, 19895), ('General Government of the Union', 21157, 21161), ('State', 21581, 21581), ('State', 21678, 21678), ('State', 21694, 21694), ('Legislature', 21944, 21944), ('Army', 22017, 22017), ('Navy', 22229, 22229), ('Congress', 22487, 22487), ('Legislature', 22573, 22573), ('Legislature', 23057, 23057), ('Congress', 23100, 23100), ('Congress', 23388, 23388), ('Federal Government', 23511, 23512), ('Navy', 23569, 23569), ('Federal Union', 25130, 25131), ('General Government', 25155, 25156), ('Federal Government', 27819, 27820), ('Congress', 28215, 28215), ('United Stages', 30680, 30681), ('Congress', 31951, 31951), ('Legislature', 32033, 32033), ('Legislature', 32061, 32061), ('Congress', 32128, 32128), ('State', 32236, 32236), ('Congress', 32471, 32471), ('Congress', 32561, 32561), ('Legislature', 32661, 32661), ('Congress', 32801, 32801), ('State', 32900, 32900), ('Congress', 33059, 33059), ('Federal Government', 33292, 33293), ('Executive', 33681, 33681), ('Navy', 33781, 33781), ('Treasury', 34029, 34029), ('Treasury', 34050, 34050), ('Treasury Department', 34124, 34125), ('Legislature', 34149, 34149), ('Treasury', 34161, 34161), ('Congress', 34174, 34174), ('Congress', 34454, 34454), ('Legislature', 34525, 34525), ('Parliament', 34612, 34612), ('Parliament', 34660, 34660), ('Senate', 34730, 34730), ('Congress', 35442, 35442), ('Congress', 35475, 35475), ('Congress', 35506, 35506), ('State', 35890, 35890), ('Helvetic Confederacy', 36094, 36095), ('General Government', 36414, 36415), ('Commonwealth', 38029, 38029), ('Commonwealth', 38053, 38053), ('State', 39241, 39241), ('General Government', 39424, 39425), ('Legislature', 39888, 39888), ('Federal Union', 39977, 39978), ('Congress', 41041, 41041), ('General Government of the Union', 41231, 41235), ('Justice', 41532, 41532), ('Congress', 42349, 42349), ('Congress', 42504, 42504), ('Union', 43466, 43466), ('Army', 44282, 44282), ('Navy', 44284, 44284), ('Senate', 44297, 44297), ('Congress', 44313, 44313), ('Administration', 44391, 44391), ('Army', 44473, 44473), ('Navy', 44475, 44475), ('Congress', 44516, 44516), ('Congress', 44812, 44812), ('Congress', 44884, 44884), ('Army', 47057, 47057), ('Army', 47095, 47095), ('Navy', 47149, 47149), ('Federal Government', 47792, 47793), ('Union', 47882, 47882), ('Congress', 49062, 49062), ('Congress', 49091, 49091), ('Congress', 49144, 49144), ('Supreme Court', 49237, 49238), ('Nebraska - Kansas', 49296, 49298), ('Union', 49784, 49784), ('Congress', 49806, 49806), ('Treasury', 50319, 50319), ('Navy', 50353, 50353), ('Congress', 50787, 50787), ('Congress', 50878, 50878), ('Congress', 50976, 50976), ('Congress', 51010, 51010), ('Congress', 51191, 51191), ('Republican Administration', 51958, 51959), ('Administration', 52271, 52271), ('Congress', 52448, 52448), ('Congress', 52740, 52740), ('Federal Union', 52882, 52883), ('Union', 52967, 52967), ('Articles of Association', 53106, 53108), ('State', 54065, 54065), ('Congress', 54076, 54076), ('Congress', 54091, 54091), ('Supreme Court', 54401, 54402), ('Supreme Court', 54548, 54549), ('Congress', 55202, 55202), ('Christianity', 55672, 55672), ('Congress', 56780, 56780), ('Treasury', 57161, 57161), ('Santo Domingo', 58456, 58457), ('Santo Domingo', 58488, 58489), ('Commerce', 58591, 58591), ('Congress', 59004, 59004), ('General Government', 60226, 60227), ('Congress', 60869, 60869), ('Congressional', 61282, 61282), ('supreme judiciary', 61678, 61679), ('Perpetual Union', 62185, 62186), ('National Union', 62359, 62360), ('Union', 64074, 64074), ('Congress', 64213, 64213), ('National Government', 64279, 64280), ('Congress', 64304, 64304), ('Congress', 64448, 64448), ('Congress', 64804, 64804), ('Congress', 64837, 64837), ('Congress', 64886, 64886), ('Mormon Church', 64893, 64894), ('Congress', 64927, 64927), ('Congress', 65065, 65065), ('Congress', 65278, 65278), ('State', 66232, 66232), ('Treasury', 66644, 66644), ('Congress', 67499, 67499), ('Congress', 67525, 67525), ('Supreme Court', 67599, 67600), ('Congress', 68224, 68224), ('Congress', 68973, 68973), ('Navy', 69914, 69914), ('Senate', 70120, 70120), ('Congress', 70141, 70141), ('Treasury', 70536, 70536), ('Congress', 70648, 70648), ('National Congress', 71151, 71152), ('Congress', 71266, 71266), ('Congressional', 71287, 71287), ('General Government', 73162, 73163), ('Cabinet', 73958, 73958), ('Treasury', 74295, 74295), ('Congress', 74457, 74457), ('Treasury', 75086, 75086), ('Congress', 75452, 75452), ('Congress', 75541, 75541), ('Treasury', 75562, 75562), ('Congress', 75982, 75982), ('Congress', 76040, 76040), ('Congress', 76782, 76782), ('Congress', 76888, 76888), ('Navy', 77024, 77024), ('Forty - ninth Congress', 77292, 77295), ('Senate', 77315, 77315), ('House', 77317, 77317), ('Congress', 77323, 77323), ('British House of Commons', 77341, 77344), ('Senate', 77371, 77371), ('Senate', 77472, 77472), ('Congress', 77574, 77574), ('Congress', 77613, 77613), ('Treasury', 77641, 77641), ('Congress', 77653, 77653), ('Congress', 77697, 77697), ('Congress', 77806, 77806), ('Congress', 77818, 77818), ('Congress', 77896, 77896), ('Congressional', 77905, 77905), ('Congress', 78012, 78012), ('Congress', 78067, 78067), ('Treasury', 78461, 78461), ('Congress', 78500, 78500), ('Congress', 78525, 78525), ('Congress', 78677, 78677), ('Congress', 78728, 78728), ('Congress', 78847, 78847), ('Congress', 80070, 80070), ('Congress', 80307, 80307), ('Congress', 80469, 80469), ('Congress', 80496, 80496), ('Democratic republic', 81546, 81547), ('Department of Justice', 82321, 82323), ('Bureau of Corporations', 82327, 82329), ('Department of Commerce and Labor', 82332, 82336), ('Interstate Commerce Commission', 82341, 82343), ('Congress', 82388, 82388), ('Congress', 82620, 82620), ('Congress', 82979, 82979), ('Department of Agriculture', 83313, 83315), ('Congress', 83533, 83533), ('Tribunal', 84115, 84115), ('Congress', 84805, 84805), ('Congress', 85058, 85058), ('Congress', 85167, 85167), ('Congress', 85272, 85272), ('Congress', 85296, 85296), ('Commerce and Labor', 85331, 85333), ('Congress', 85515, 85515), ('Porto Rico', 85834, 85835), ('State', 86041, 86041), ('Congress', 87181, 87181), ('Congress', 87326, 87326), ('Congress', 87413, 87413), ('Congress', 87777, 87777), ('House of Representatives', 87829, 87831), ('Senate', 87846, 87846), ('Democratic Party', 87963, 87964), ('Justice', 89435, 89435), ('Congress', 93828, 93828), ('Navy', 96186, 96186), ('Permanent Court of International Justice', 96525, 96529), ('Congress', 97709, 97709), ('Congress', 99075, 99075), ('Federal Government', 100135, 100136), ('State', 100148, 100148), ('Treasury Department', 100925, 100926), ('Department of Justice', 100929, 100931), ('State', 101131, 101131), ('Permanent Court of International Justice', 101986, 101990), ('League of Nations', 102118, 102120), ('Republican Party', 102714, 102715), ('Congress', 102756, 102756), ('Congress', 102777, 102777), ('State', 104442, 104442), ('Congress', 104617, 104617), ('Congress', 105221, 105221), ('Congress', 105252, 105252), ('Congress', 105294, 105294), ('Federal Government', 105929, 105930), ('Peabody', 109326, 109326), ('United Nations', 110639, 110640), ('United Nations', 110951, 110952), ('United Nations', 110978, 110979), ('United Nations', 111157, 111158), ('Senate', 111264, 111264), ('United Nations', 111579, 111580), ('United Nations', 114353, 114354), ('United Nations', 114518, 114519), ('United Nations', 116210, 116211), ('United', 117277, 117277), ('United Nations', 117595, 117596), ('Change Liberty', 119003, 119004), ('Massachusetts Congress', 127844, 127845), ('Lincoln Memorial', 128452, 128453), ('Argonne', 128560, 128560), ('Pork Chop Hill', 128576, 128578), ('Independence Hall', 129729, 129730), ('Cabinet', 130371, 130371), ('Congress', 130440, 130440), ('Federal Government', 130516, 130517), ('Cabinet', 133252, 133252), ('Congress', 133334, 133334), ('House', 133346, 133346), ('Senate', 133349, 133349), ('Congress', 133414, 133414), ('Congress', 133688, 133688), ('Congress', 138430, 138430), ('Congress', 138451, 138451), ('Social Security', 139688, 139689), ('Medicare', 139691, 139691), ('Congress', 140656, 140656), ('Liberty Bell', 142920, 142921)]\n"
     ]
    }
   ],
   "source": [
    "# print ORGANIZATION (with indexes)\n",
    "print(len(stanford_org_index))\n",
    "print(stanford_org_index)"
   ]
  },
  {
   "cell_type": "markdown",
   "metadata": {},
   "source": [
    "## Analyse Results\n",
    "\n",
    "1. Compare the results(with indexes) from nltk and stanford NER\n",
    "2. If the start and end indexes of ORGANIZATION from nltk and stanford are the same, then it is an exact match\n",
    "3. If the start and end indexes of ORGANIZATION from nltk and stanford are overlapped but not exact matched, then it is a partial overlap\n",
    "4. print out the statistics"
   ]
  },
  {
   "cell_type": "code",
   "execution_count": 78,
   "metadata": {},
   "outputs": [
    {
     "name": "stdout",
     "output_type": "stream",
     "text": [
      "exact match: 227\n",
      "partial overlap: 36\n"
     ]
    }
   ],
   "source": [
    "exact_match = 0\n",
    "partial_overlap = 0\n",
    "for stanford_elem in stanford_org_index:\n",
    "    for nltk_elem in nltk_org_index:\n",
    "        if stanford_elem[1] == nltk_elem[1] and stanford_elem[2] == nltk_elem[2]:\n",
    "            exact_match += 1\n",
    "            break\n",
    "        elif not (stanford_elem[1] > nltk_elem[2] or stanford_elem[2] < nltk_elem[1]):\n",
    "            partial_overlap += 1\n",
    "            break\n",
    "\n",
    "print(\"exact match: \" + str(exact_match))\n",
    "print(\"partial overlap: \" + str(partial_overlap))"
   ]
  },
  {
   "cell_type": "code",
   "execution_count": null,
   "metadata": {},
   "outputs": [],
   "source": []
  }
 ],
 "metadata": {
  "file_extension": ".py",
  "kernelspec": {
   "display_name": "Python 3",
   "language": "python",
   "name": "python3"
  },
  "language_info": {
   "codemirror_mode": {
    "name": "ipython",
    "version": 3
   },
   "file_extension": ".py",
   "mimetype": "text/x-python",
   "name": "python",
   "nbconvert_exporter": "python",
   "pygments_lexer": "ipython3",
   "version": "3.7.6"
  },
  "mimetype": "text/x-python",
  "name": "python",
  "npconvert_exporter": "python",
  "pygments_lexer": "ipython3",
  "version": 3
 },
 "nbformat": 4,
 "nbformat_minor": 2
}
